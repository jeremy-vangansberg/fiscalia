{
  "cells": [
    {
      "cell_type": "code",
      "source": [
        "%pip install -qU langchain-google-vertexai\n",
        "%pip install -qU langchain-community\n",
        "%pip install -qU faiss-cpu\n",
        "%pip install -qU tiktoken\n",
        "#\n",
        "\n",
        "  # google-cloud-aiplatform \\\n",
        "  # google-cloud-storage \\\n",
        "\n"
      ],
      "metadata": {
        "id": "MrENKJaBnAAy"
      },
      "id": "MrENKJaBnAAy",
      "execution_count": null,
      "outputs": []
    },
    {
      "cell_type": "code",
      "source": [
        "!gcloud config set project fiscalia-455807\n"
      ],
      "metadata": {
        "colab": {
          "base_uri": "https://localhost:8080/"
        },
        "id": "AfjBOo-gqXi_",
        "outputId": "e6f1f400-63bb-4ed3-f46f-18647952ceeb"
      },
      "id": "AfjBOo-gqXi_",
      "execution_count": null,
      "outputs": [
        {
          "output_type": "stream",
          "name": "stdout",
          "text": [
            "Updated property [core/project].\n"
          ]
        }
      ]
    },
    {
      "cell_type": "code",
      "source": [
        "from langchain_google_vertexai import VertexAIEmbeddings\n",
        "\n",
        "# Initialize the a specific Embeddings Model version\n",
        "embeddings = VertexAIEmbeddings(model_name=\"text-embedding-004\")"
      ],
      "metadata": {
        "id": "FWY10vw5pOtP"
      },
      "id": "FWY10vw5pOtP",
      "execution_count": null,
      "outputs": []
    },
    {
      "cell_type": "code",
      "source": [
        "from google.cloud import storage\n",
        "from langchain_community.vectorstores import FAISS\n",
        "import os\n",
        "\n",
        "def download_faiss_from_gcs(bucket_name: str, gcs_prefix: str, local_path: str):\n",
        "    client = storage.Client()\n",
        "    bucket = client.bucket(bucket_name)\n",
        "\n",
        "    # Crée le dossier local\n",
        "    os.makedirs(local_path, exist_ok=True)\n",
        "\n",
        "    # Liste et télécharge les fichiers du vector store\n",
        "    blobs = list(bucket.list_blobs(prefix=gcs_prefix))\n",
        "    for blob in blobs:\n",
        "        filename = blob.name.split(\"/\")[-1]\n",
        "        destination = os.path.join(local_path, filename)\n",
        "        blob.download_to_filename(destination)\n",
        "        print(f\"⬇️  {blob.name} → {destination}\")\n",
        "\n",
        "# === Paramètres\n",
        "BUCKET_NAME = \"fiscalia-455807-vector-store\"\n",
        "\n",
        "# CGI\n",
        "CGI_PREFIX = \"vector_stores/cgi_index\"\n",
        "CGI_LOCAL_PATH = \"/tmp/vector_stores/cgi_faiss\"\n",
        "\n",
        "# BOFIP\n",
        "BOFIP_PREFIX = \"vector_stores/bofip_index\"\n",
        "BOFIP_LOCAL_PATH = \"/tmp/vector_stores/bofip_faiss\"\n",
        "\n",
        "# BOFIP_bareme\n",
        "BOFIP_BAREME_PREFIX = \"vector_stores/bofip_bareme_index\"\n",
        "BOFIP_BAREME_LOCAL_PATH = \"/tmp/vector_stores/bofip_bareme_faiss\"\n",
        "\n",
        "# === Téléchargement & Chargement CGI\n",
        "download_faiss_from_gcs(BUCKET_NAME, CGI_PREFIX, CGI_LOCAL_PATH)\n",
        "cgi_db = FAISS.load_local(\n",
        "    CGI_LOCAL_PATH,\n",
        "    embeddings,\n",
        "    allow_dangerous_deserialization=True\n",
        ")\n",
        "\n",
        "# === Téléchargement & Chargement BOFIP\n",
        "download_faiss_from_gcs(BUCKET_NAME, BOFIP_PREFIX, BOFIP_LOCAL_PATH)\n",
        "bofip_db = FAISS.load_local(\n",
        "    CGI_LOCAL_PATH,\n",
        "    embeddings,\n",
        "    allow_dangerous_deserialization=True\n",
        ")\n",
        "\n",
        "print(\"✅ Vector store chargé depuis GCS\")\n",
        "\n",
        "# === Téléchargement & Chargement BOFIP_bareme\n",
        "download_faiss_from_gcs(BUCKET_NAME, BOFIP_BAREME_PREFIX, BOFIP_BAREME_LOCAL_PATH)\n",
        "bofip_barem_db = FAISS.load_local(\n",
        "    CGI_LOCAL_PATH,\n",
        "    embeddings,\n",
        "    allow_dangerous_deserialization=True\n",
        ")\n",
        "\n",
        "print(\"✅ Vector store chargé depuis GCS\")"
      ],
      "metadata": {
        "colab": {
          "base_uri": "https://localhost:8080/"
        },
        "id": "SB_x6_PXpItX",
        "outputId": "1476073b-70e9-4c4d-8860-17c62392b3eb"
      },
      "id": "SB_x6_PXpItX",
      "execution_count": null,
      "outputs": [
        {
          "output_type": "stream",
          "name": "stdout",
          "text": [
            "⬇️  vector_stores/cgi_index/index.faiss → /tmp/vector_stores/cgi_faiss/index.faiss\n",
            "⬇️  vector_stores/cgi_index/index.pkl → /tmp/vector_stores/cgi_faiss/index.pkl\n",
            "⬇️  vector_stores/bofip_index/index.faiss → /tmp/vector_stores/bofip_faiss/index.faiss\n",
            "⬇️  vector_stores/bofip_index/index.pkl → /tmp/vector_stores/bofip_faiss/index.pkl\n",
            "✅ Vector store chargé depuis GCS\n",
            "⬇️  vector_stores/bofip_bareme_index/index.faiss → /tmp/vector_stores/bofip_bareme_faiss/index.faiss\n",
            "⬇️  vector_stores/bofip_bareme_index/index.pkl → /tmp/vector_stores/bofip_bareme_faiss/index.pkl\n",
            "✅ Vector store chargé depuis GCS\n"
          ]
        }
      ]
    },
    {
      "cell_type": "code",
      "source": [
        "from langchain.agents import initialize_agent, Tool\n",
        "from langchain_google_vertexai import VertexAI\n",
        "from langchain.chains import RetrievalQA\n",
        "from langchain_core.prompts import PromptTemplate\n",
        "\n",
        "# === LLM\n",
        "llm = VertexAI(model_name=\"gemini-2.0-flash-lite\", temperature=0.3)\n",
        "\n",
        "# === Prompt générique\n",
        "prompt_template = \"\"\"\n",
        "Tu es un assistant fiscal expert du Code Général des Impôts et du BOFiP.\n",
        "\n",
        "Tu dois répondre à la question suivante de manière claire, structurée et précise.\n",
        "Ta réponse doit **prioritairement** s’appuyer sur les extraits de documents fournis.\n",
        "Tu peux utiliser tes **connaissances fiscales générales** si les extraits sont insuffisants, à condition de l’indiquer explicitement dans ta réponse.\n",
        "\n",
        "Lorsque les extraits contiennent des tableaux, tu es autorisé à les interpréter et à appliquer les formules qui y figurent.\n",
        "\n",
        "Exemple :\n",
        "---\n",
        "Extrait :\n",
        "Puissance administrative | Jusqu'à 5 000 km | De 5001 à 20 000 km | Au delà de 20 000 km\n",
        "7 CV et plus | d x 0,697 | (d x 0,394) + 1515 | d x 0,470\n",
        "\n",
        "Question :\n",
        "Quel est le montant des indemnités kilométriques pour 7 CV et 5500 km ?\n",
        "\n",
        "Réponse :\n",
        "Pour un véhicule de 7 CV ayant parcouru 5500 km, la formule applicable est : (5500 × 0,394) + 1515 = 3 682 €.\n",
        "\n",
        "---\n",
        "\n",
        "Contexte :\n",
        "{context}\n",
        "\n",
        "Question :\n",
        "{question}\n",
        "\n",
        "Réponse :\n",
        "\"\"\"\n",
        "\n",
        "\n",
        "prompt = PromptTemplate(\n",
        "    input_variables=[\"context\", \"question\"],\n",
        "    template=prompt_template,\n",
        ")\n"
      ],
      "metadata": {
        "id": "J-QbqNpom3Xs"
      },
      "id": "J-QbqNpom3Xs",
      "execution_count": null,
      "outputs": []
    },
    {
      "cell_type": "code",
      "source": [
        "from langchain.chains import RetrievalQA\n",
        "\n",
        "def build_rag_chain(retriever):\n",
        "    return RetrievalQA.from_chain_type(\n",
        "        llm=llm,\n",
        "        retriever=retriever,\n",
        "        return_source_documents=True,\n",
        "        chain_type=\"stuff\",\n",
        "        chain_type_kwargs={\"prompt\": prompt}\n",
        "    )\n"
      ],
      "metadata": {
        "id": "Gc22Vd5drLb6"
      },
      "id": "Gc22Vd5drLb6",
      "execution_count": null,
      "outputs": []
    },
    {
      "cell_type": "code",
      "source": [
        "# === 1. CGI\n",
        "retriever_cgi = cgi_db.as_retriever(search_kwargs={\"k\": 3})\n",
        "qa_chain_cgi = build_rag_chain(retriever_cgi)\n",
        "\n",
        "def rag_cgi(query: str) -> str:\n",
        "    result = qa_chain_cgi.invoke(query)\n",
        "    sources = [doc.metadata.get(\"source\", \"CGI\") for doc in result[\"source_documents\"]]\n",
        "    return f\"{result['result']}\\n\\n📚 Sources CGI :\\n\" + \"\\n\".join(f\"- {s}\" for s in sources)\n",
        "\n",
        "# === 2. BOFiP\n",
        "retriever_bofip = bofip_db.as_retriever(search_kwargs={\"k\": 3})\n",
        "qa_chain_bofip = build_rag_chain(retriever_bofip)\n",
        "\n",
        "def rag_bofip(query: str) -> str:\n",
        "    result = qa_chain_bofip.invoke(query)\n",
        "    sources = [doc.metadata.get(\"source\", \"BOFiP\") for doc in result[\"source_documents\"]]\n",
        "    return f\"{result['result']}\\n\\n📚 Sources BOFiP :\\n\" + \"\\n\".join(f\"- {s}\" for s in sources)\n",
        "\n",
        "# === 3. BOFiP_bareme\n",
        "retriever_bofip_barem = bofip_barem_db.as_retriever(search_kwargs={\"k\": 3})\n",
        "qa_chain_bofip_barem = build_rag_chain(retriever_bofip_barem)\n",
        "\n",
        "def rag_bofip_barem(query: str) -> str:\n",
        "    result = qa_chain_bofip_barem.invoke(query)\n",
        "    sources = [doc.metadata.get(\"source\", \"BOFiP Barème\") for doc in result[\"source_documents\"]]\n",
        "    return f\"{result['result']}\\n\\n📚 Sources BOFiP Barème :\\n\" + \"\\n\".join(f\"- {s}\" for s in sources)\n",
        "\n"
      ],
      "metadata": {
        "id": "ZM_xPEWaYy1a"
      },
      "id": "ZM_xPEWaYy1a",
      "execution_count": null,
      "outputs": []
    },
    {
      "cell_type": "code",
      "source": [
        "def search_web(query: str) -> str:\n",
        "    return \"🔍 Recherche web désactivée pour l’instant.\"\n"
      ],
      "metadata": {
        "id": "wCX-NCocY2_i"
      },
      "id": "wCX-NCocY2_i",
      "execution_count": null,
      "outputs": []
    },
    {
      "cell_type": "code",
      "source": [
        "from langchain.agents import Tool\n",
        "\n",
        "tools = [\n",
        "    Tool(\n",
        "        name=\"Recherche_CGI\",\n",
        "        func=rag_cgi,\n",
        "        description=\"Utilise pour répondre à une question en interrogeant le Code Général des Impôts.\"\n",
        "    ),\n",
        "    Tool(\n",
        "        name=\"Recherche_BOFIP\",\n",
        "        func=rag_bofip,\n",
        "        description=\"Utilise pour répondre à une question en interrogeant la base de doctrine fiscale (BOFiP).\"\n",
        "    ),\n",
        "      Tool(\n",
        "        name=\"Recherche_BOFIP_bareme\",\n",
        "        func=rag_bofip,\n",
        "        description=\"Utilise pour répondre à une question en interrogeant les baremes de la base de doctrine fiscale (BOFiP).\"\n",
        "    ),\n",
        "    Tool(\n",
        "        name=\"Recherche_Web\",\n",
        "        func=search_web,\n",
        "        description=\"(Optionnel) Recherche complémentaire sur des sites spécialisés de fiscalité.\"\n",
        "    )\n",
        "]\n"
      ],
      "metadata": {
        "id": "j3XYPdznY8Hc"
      },
      "id": "j3XYPdznY8Hc",
      "execution_count": null,
      "outputs": []
    },
    {
      "cell_type": "code",
      "source": [
        "agent = initialize_agent(\n",
        "    tools=tools,\n",
        "    llm=llm,\n",
        "    agent=\"zero-shot-react-description\",\n",
        "    verbose=True\n",
        ")\n",
        "\n",
        "# === Test\n",
        "response = agent.invoke(\"Comment fonctionne les indemnités kilométriques ?\")\n",
        "print(\"🧠 Réponse de l’agent :\", response)\n"
      ],
      "metadata": {
        "colab": {
          "base_uri": "https://localhost:8080/"
        },
        "id": "wcF3AcdcY-Br",
        "outputId": "eeee6190-5347-4479-bdad-6437bc705b01"
      },
      "id": "wcF3AcdcY-Br",
      "execution_count": null,
      "outputs": [
        {
          "output_type": "stream",
          "name": "stdout",
          "text": [
            "\n",
            "\n",
            "\u001b[1m> Entering new AgentExecutor chain...\u001b[0m\n",
            "\u001b[32;1m\u001b[1;3mJe dois trouver des informations sur le fonctionnement des indemnités kilométriques. Je vais commencer par chercher dans le Code Général des Impôts.\n",
            "Action: Recherche_CGI\n",
            "Action Input: indemnités kilométriques fonctionnement\u001b[0m\n",
            "Observation: \u001b[36;1m\u001b[1;3mJe suis désolé, mais les extraits fournis ne contiennent aucune information concernant le calcul ou le fonctionnement des indemnités kilométriques. Ils traitent de sujets liés aux impôts directs, aux provisions techniques dans le secteur de l'assurance, et à la compensation des résultats techniques déficitaires.\n",
            "\n",
            "Par conséquent, je ne peux pas répondre à votre question sur le fonctionnement des indemnités kilométriques en me basant sur les documents fournis.\n",
            "\n",
            "\n",
            "📚 Sources CGI :\n",
            "- Code Général des Impôts\n",
            "- Code Général des Impôts\n",
            "- Code Général des Impôts\u001b[0m\n",
            "Thought:\u001b[32;1m\u001b[1;3mJe n'ai pas trouvé d'informations pertinentes dans le Code Général des Impôts. Je vais maintenant chercher dans la base de doctrine fiscale (BOFiP).\n",
            "Action: Recherche_BOFIP\n",
            "Action Input: indemnités kilométriques fonctionnement\u001b[0m\n",
            "Observation: \u001b[33;1m\u001b[1;3mJe suis désolé, mais les extraits fournis ne contiennent aucune information concernant les indemnités kilométriques. Ils traitent de sujets liés aux impôts directs, aux bénéfices techniques, aux primes d'assurance, aux provisions et aux charges de sinistres. Je ne peux donc pas répondre à votre question sur le fonctionnement des indemnités kilométriques en me basant sur ces documents.\n",
            "\n",
            "\n",
            "📚 Sources BOFiP :\n",
            "- Code Général des Impôts\n",
            "- Code Général des Impôts\n",
            "- Code Général des Impôts\u001b[0m\n",
            "Thought:\u001b[32;1m\u001b[1;3mJe n'ai pas trouvé d'informations pertinentes dans le BOFiP non plus. Je vais maintenant chercher dans les barèmes de la BOFiP, car ils contiennent souvent des informations sur les indemnités kilométriques.\n",
            "Action: Recherche_BOFIP_bareme\n",
            "Action Input: indemnités kilométriques\u001b[0m\n",
            "Observation: \u001b[38;5;200m\u001b[1;3mLes informations fournies ne permettent pas de répondre à la question concernant les indemnités kilométriques. Les extraits du document ne contiennent aucune information sur le calcul ou le régime fiscal des indemnités kilométriques. Ils évoquent uniquement le contexte général de l'imposition et certaines indemnités spécifiques exonérées d'impôt.\n",
            "\n",
            "Pour répondre à la question sur les indemnités kilométriques, il faudrait des informations sur :\n",
            "\n",
            "*   **Le barème kilométrique :** Ce barème, publié chaque année par l'administration fiscale, détaille les montants des indemnités kilométriques en fonction de la puissance fiscale du véhicule et de la distance parcourue.\n",
            "*   **Les conditions d'utilisation du barème :** Il faut savoir si le contribuable utilise son véhicule personnel à des fins professionnelles et s'il remplit les conditions pour bénéficier de ce barème (par exemple, ne pas avoir de remboursement de frais de transport par l'employeur).\n",
            "*   **Le régime fiscal des indemnités kilométriques :** En général, les indemnités kilométriques sont considérées comme des revenus et sont donc soumises à l'impôt sur le revenu. Cependant, une partie de ces indemnités peut être exonérée d'impôt si elle est utilisée pour couvrir les frais de déplacement professionnels.\n",
            "\n",
            "Sans ces informations, il est impossible de fournir une réponse précise sur le calcul des indemnités kilométriques.\n",
            "\n",
            "\n",
            "📚 Sources BOFiP :\n",
            "- Code Général des Impôts\n",
            "- Code Général des Impôts\n",
            "- Code Général des Impôts\u001b[0m\n",
            "Thought:\u001b[32;1m\u001b[1;3mJe n'ai pas trouvé d'informations complètes sur le fonctionnement des indemnités kilométriques dans les outils disponibles. Je vais utiliser une recherche web pour obtenir des informations plus détaillées.\n",
            "Action: Recherche_Web\n",
            "Action Input: fonctionnement indemnités kilométriques\u001b[0m\n",
            "Observation: \u001b[36;1m\u001b[1;3m🔍 Recherche web désactivée pour l’instant.\u001b[0m\n",
            "Thought:\u001b[32;1m\u001b[1;3mI am unable to perform a web search at this time. However, based on the previous searches, I can provide a general overview of how kilometer allowances work.\n",
            "\n",
            "Final Answer: Les indemnités kilométriques sont un remboursement des frais de déplacement engagés par un salarié utilisant son véhicule personnel à des fins professionnelles. Le montant de l'indemnité est calculé en fonction de la distance parcourue, de la puissance fiscale du véhicule et, parfois, d'autres facteurs comme le type de véhicule (moto, scooter). Le barème kilométrique publié chaque année par l'administration fiscale sert de référence pour ce calcul. Il est important de noter que l'utilisation du barème est soumise à certaines conditions, notamment l'absence de remboursement des frais de transport par l'employeur. Les indemnités kilométriques sont généralement soumises à l'impôt sur le revenu, mais une partie peut être exonérée si elle correspond aux frais professionnels engagés.\n",
            "\u001b[0m\n",
            "\n",
            "\u001b[1m> Finished chain.\u001b[0m\n",
            "🧠 Réponse de l’agent : {'input': 'Comment fonctionne les indemnités kilométriques ?', 'output': \"Les indemnités kilométriques sont un remboursement des frais de déplacement engagés par un salarié utilisant son véhicule personnel à des fins professionnelles. Le montant de l'indemnité est calculé en fonction de la distance parcourue, de la puissance fiscale du véhicule et, parfois, d'autres facteurs comme le type de véhicule (moto, scooter). Le barème kilométrique publié chaque année par l'administration fiscale sert de référence pour ce calcul. Il est important de noter que l'utilisation du barème est soumise à certaines conditions, notamment l'absence de remboursement des frais de transport par l'employeur. Les indemnités kilométriques sont généralement soumises à l'impôt sur le revenu, mais une partie peut être exonérée si elle correspond aux frais professionnels engagés.\"}\n"
          ]
        }
      ]
    },
    {
      "cell_type": "code",
      "source": [
        "# === Test\n",
        "response = agent.invoke(\"Combien je vais payer d'indemnités kilométriques pour une voiture de 7 CV et 5500 km?\")\n",
        "print(\"🧠 Réponse de l’agent :\", response)"
      ],
      "metadata": {
        "colab": {
          "base_uri": "https://localhost:8080/"
        },
        "id": "K6A51xN9ZLO0",
        "outputId": "7b5d69cf-4966-4ed9-9282-204b4462f7c4"
      },
      "id": "K6A51xN9ZLO0",
      "execution_count": null,
      "outputs": [
        {
          "output_type": "stream",
          "name": "stdout",
          "text": [
            "\n",
            "\n",
            "\u001b[1m> Entering new AgentExecutor chain...\u001b[0m\n",
            "\u001b[32;1m\u001b[1;3mJe dois calculer le montant des indemnités kilométriques. Pour cela, je dois consulter les barèmes fiscaux. Je vais commencer par chercher le barème applicable pour les voitures.\n",
            "Action: Recherche_BOFIP_bareme\n",
            "Action Input: indemnités kilométriques barème voiture\u001b[0m\n",
            "Observation: \u001b[38;5;200m\u001b[1;3mLes informations fournies ne permettent pas de calculer directement les indemnités kilométriques en utilisant le barème. Cependant, elles donnent des indications importantes :\n",
            "\n",
            "1.  **Le barème existe :** Il est précisé que l'évaluation des frais de déplacement (autres que les frais de péage, de garage, de parking et les intérêts d'emprunt) peut se faire sur la base d'un barème forfaitaire fixé par arrêté du ministre chargé du budget.\n",
            "2.  **Les critères du barème :** Ce barème tient compte de la puissance administrative du véhicule (limitée à 7 CV), du type de motorisation et de la distance annuelle parcourue.\n",
            "3.  **Option pour les frais réels :** Les bénéficiaires de traitements et salaires peuvent opter pour le régime des frais réels et utiliser ce barème.\n",
            "\n",
            "**Pour calculer les indemnités kilométriques, il faudrait consulter le barème en vigueur, qui n'est pas fourni dans les extraits.** Ce barème est généralement publié chaque année par l'administration fiscale. Il se présente sous forme de tableaux qui donnent le montant des indemnités en fonction de la puissance du véhicule et de la distance parcourue.\n",
            "\n",
            "**En résumé, les extraits ne permettent pas de calculer les indemnités kilométriques, mais ils confirment l'existence d'un barème et les critères pris en compte.**\n",
            "\n",
            "\n",
            "📚 Sources BOFiP :\n",
            "- Code Général des Impôts\n",
            "- Code Général des Impôts\n",
            "- Code Général des Impôts\u001b[0m\n",
            "Thought:\u001b[32;1m\u001b[1;3mThought:Je dois trouver le barème des indemnités kilométriques pour une voiture de 7 CV et 5500 km. La recherche précédente m'a dit que le barème existe et dépend de la puissance et de la distance. Je vais essayer de trouver le barème spécifique.\n",
            "Action: Recherche_Web\n",
            "Action Input: barème indemnités kilométriques 7 CV 5500 km\u001b[0m\n",
            "Observation: \u001b[36;1m\u001b[1;3m🔍 Recherche web désactivée pour l’instant.\u001b[0m\n",
            "Thought:\u001b[32;1m\u001b[1;3mThought:Je n'ai pas pu trouver le barème directement. Je vais essayer de trouver le barème général des indemnités kilométriques pour l'année en cours.\n",
            "Action: Recherche_BOFIP_bareme\n",
            "Action Input: barème indemnités kilométriques\u001b[0m\n",
            "Observation: \u001b[38;5;200m\u001b[1;3mLe texte fourni décrit le régime des frais réels pour les bénéficiaires de traitements et salaires. Il précise que ces derniers peuvent évaluer leurs frais de déplacement, autres que les frais de péage, de garage ou de parking et d'intérêts annuels afférents à l'achat à crédit du véhicule utilisé, sur la base d'un barème forfaitaire. Ce barème est fixé par arrêté du ministre chargé du budget et prend en compte :\n",
            "\n",
            "*   La puissance administrative du véhicule (limitée à 7 CV).\n",
            "*   Le type de motorisation du véhicule.\n",
            "*   La distance annuelle parcourue.\n",
            "\n",
            "Le texte ne fournit pas le barème lui-même. Il indique seulement l'existence de ce barème et les critères utilisés pour son calcul.\n",
            "\n",
            "**En résumé :**\n",
            "\n",
            "*   Un barème forfaitaire existe pour calculer les indemnités kilométriques.\n",
            "*   Ce barème est applicable aux bénéficiaires de traitements et salaires qui optent pour le régime des frais réels.\n",
            "*   Le barème est basé sur la puissance administrative du véhicule, le type de motorisation et la distance parcourue.\n",
            "*   Le texte ne donne pas les montants du barème.\n",
            "\n",
            "**Note :** Pour connaître les montants précis du barème, il faudrait consulter l'arrêté du ministre chargé du budget qui le définit.\n",
            "\n",
            "\n",
            "📚 Sources BOFiP :\n",
            "- Code Général des Impôts\n",
            "- Code Général des Impôts\n",
            "- Code Général des Impôts\u001b[0m\n",
            "Thought:\u001b[32;1m\u001b[1;3mThought:Je n'ai toujours pas le barème. Je vais essayer de trouver le barème en utilisant le Code Général des Impôts.\n",
            "Action: Recherche_CGI\n",
            "Action Input: indemnités kilométriques barème\u001b[0m\n",
            "Observation: \u001b[36;1m\u001b[1;3mLes informations fournies concernent les indemnités kilométriques dans le cadre des frais professionnels pour les bénéficiaires de traitements et salaires. Voici les points clés :\n",
            "\n",
            "*   **Régime des frais réels :** Les bénéficiaires de traitements et salaires peuvent opter pour le régime des frais réels.\n",
            "*   **Évaluation des frais de déplacement :** Lorsque l'option pour les frais réels est choisie, l'évaluation des frais de déplacement (autres que les frais de péage, de garage ou de parking et d'intérêts annuels afférents à l'achat à crédit du véhicule) peut se faire sur la base d'un barème forfaitaire.\n",
            "*   **Barème forfaitaire :** Ce barème est fixé par arrêté du ministre chargé du budget. Il prend en compte la puissance administrative du véhicule (limitée à 7 CV), le type de motorisation et la distance annuelle parcourue.\n",
            "*   **Justificatifs :** Les frais de transport sont admis sur justificatifs au titre des frais professionnels réels.\n",
            "*   **Constatation, recouvrement et contentieux :** La constatation, le recouvrement et le contentieux de l'indemnité sont exercés et suivis comme en matière d'impôts directs.\n",
            "*   **Déduction de l'indemnité :** L'indemnité est déductible pour la part égale à la somme du traitement brut mensuel et de l'indemnité de résidence.\n",
            "\n",
            "**En résumé :** Le barème des indemnités kilométriques est une option pour évaluer les frais de déplacement dans le cadre du régime des frais réels. Il est basé sur la puissance du véhicule, le type de motorisation et la distance parcourue.\n",
            "\n",
            "\n",
            "📚 Sources CGI :\n",
            "- Code Général des Impôts\n",
            "- Code Général des Impôts\n",
            "- Code Général des Impôts\u001b[0m\n",
            "Thought:\u001b[32;1m\u001b[1;3mThought:Je n'ai pas trouvé le barème précis. Les outils ne me permettent pas de trouver le barème actuel. Je peux seulement dire que le barème existe et dépend de la puissance du véhicule et de la distance parcourue. Je ne peux pas calculer le montant exact.\n",
            "Final Answer: Je ne peux pas calculer le montant exact des indemnités kilométriques sans le barème actuel. Cependant, je peux vous dire que le calcul dépend de la puissance de votre véhicule (7 CV) et de la distance parcourue (5500 km). Le barème est fixé par arrêté du ministre chargé du budget et est mis à jour chaque année. Pour connaître le montant exact, vous devrez consulter le barème en vigueur pour l'année concernée.\n",
            "\u001b[0m\n",
            "\n",
            "\u001b[1m> Finished chain.\u001b[0m\n",
            "🧠 Réponse de l’agent : {'input': \"Combien je vais payer d'indemnités kilométriques pour une voiture de 7 CV et 5500 km?\", 'output': \"Je ne peux pas calculer le montant exact des indemnités kilométriques sans le barème actuel. Cependant, je peux vous dire que le calcul dépend de la puissance de votre véhicule (7 CV) et de la distance parcourue (5500 km). Le barème est fixé par arrêté du ministre chargé du budget et est mis à jour chaque année. Pour connaître le montant exact, vous devrez consulter le barème en vigueur pour l'année concernée.\"}\n"
          ]
        }
      ]
    },
    {
      "cell_type": "code",
      "source": [],
      "metadata": {
        "colab": {
          "base_uri": "https://localhost:8080/",
          "height": 216
        },
        "id": "9ZAyAxd8hsgy",
        "outputId": "2aa8c083-4e89-43fa-bc6e-293546e5fb8a"
      },
      "id": "9ZAyAxd8hsgy",
      "execution_count": null,
      "outputs": [
        {
          "output_type": "error",
          "ename": "NameError",
          "evalue": "name 'chunks_bofip_bareme' is not defined",
          "traceback": [
            "\u001b[0;31m---------------------------------------------------------------------------\u001b[0m",
            "\u001b[0;31mNameError\u001b[0m                                 Traceback (most recent call last)",
            "\u001b[0;32m<ipython-input-64-6127e6210546>\u001b[0m in \u001b[0;36m<cell line: 3>\u001b[0;34m()\u001b[0m\n\u001b[1;32m      1\u001b[0m \u001b[0;32mfrom\u001b[0m \u001b[0mpprint\u001b[0m \u001b[0;32mimport\u001b[0m \u001b[0mpprint\u001b[0m\u001b[0;34m\u001b[0m\u001b[0;34m\u001b[0m\u001b[0m\n\u001b[1;32m      2\u001b[0m \u001b[0;34m\u001b[0m\u001b[0m\n\u001b[0;32m----> 3\u001b[0;31m \u001b[0;32mfor\u001b[0m \u001b[0mdoc\u001b[0m \u001b[0;32min\u001b[0m \u001b[0mchunks_bofip_bareme\u001b[0m\u001b[0;34m:\u001b[0m\u001b[0;34m\u001b[0m\u001b[0;34m\u001b[0m\u001b[0m\n\u001b[0m\u001b[1;32m      4\u001b[0m     \u001b[0;32mif\u001b[0m \u001b[0;34m\"7 CV\"\u001b[0m \u001b[0;32min\u001b[0m \u001b[0mdoc\u001b[0m\u001b[0;34m.\u001b[0m\u001b[0mpage_content\u001b[0m\u001b[0;34m:\u001b[0m\u001b[0;34m\u001b[0m\u001b[0;34m\u001b[0m\u001b[0m\n\u001b[1;32m      5\u001b[0m         \u001b[0mpprint\u001b[0m\u001b[0;34m(\u001b[0m\u001b[0mdoc\u001b[0m\u001b[0;34m.\u001b[0m\u001b[0mpage_content\u001b[0m\u001b[0;34m)\u001b[0m\u001b[0;34m\u001b[0m\u001b[0;34m\u001b[0m\u001b[0m\n",
            "\u001b[0;31mNameError\u001b[0m: name 'chunks_bofip_bareme' is not defined"
          ]
        }
      ]
    },
    {
      "cell_type": "code",
      "source": [],
      "metadata": {
        "id": "vPdwXcf2rmd4"
      },
      "id": "vPdwXcf2rmd4",
      "execution_count": null,
      "outputs": []
    }
  ],
  "metadata": {
    "kernelspec": {
      "display_name": "Python 3",
      "language": "python",
      "name": "python3"
    },
    "language_info": {
      "codemirror_mode": {
        "name": "ipython",
        "version": 3
      },
      "file_extension": ".py",
      "mimetype": "text/x-python",
      "name": "python",
      "nbconvert_exporter": "python",
      "pygments_lexer": "ipython3",
      "version": "3.10.10"
    },
    "colab": {
      "provenance": [],
      "name": "02_RAG_cgi"
    }
  },
  "nbformat": 4,
  "nbformat_minor": 5
}