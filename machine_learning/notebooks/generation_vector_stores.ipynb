{
 "cells": [
  {
   "cell_type": "code",
   "execution_count": 1,
   "metadata": {},
   "outputs": [
    {
     "name": "stdout",
     "output_type": "stream",
     "text": [
      "hello world\n"
     ]
    }
   ],
   "source": [
    "print('hello world')"
   ]
  },
  {
   "cell_type": "code",
   "execution_count": 2,
   "metadata": {},
   "outputs": [
    {
     "name": "stdout",
     "output_type": "stream",
     "text": [
      "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\n"
     ]
    }
   ],
   "source": [
    "import os\n",
    "from dotenv import load_dotenv\n",
    "load_dotenv(override=True)\n",
    "# LANGCHAIN_API_KEY = os.getenv('LANGCHAIN_API_KEY')\n",
    "\n",
    "os.environ['LANGCHAIN_TRACING_V2'] = 'true'\n",
    "os.environ['LANGCHAIN_ENDPOINT'] = 'https://api.smith.langchain.com'\n",
    " \n",
    "\n",
    "print(os.environ['LANGCHAIN_API_KEY'])"
   ]
  },
  {
   "cell_type": "markdown",
   "metadata": {},
   "source": [
    "# Indexing"
   ]
  },
  {
   "cell_type": "code",
   "execution_count": 3,
   "metadata": {},
   "outputs": [
    {
     "name": "stdout",
     "output_type": "stream",
     "text": [
      "Nombre de documents chargés : 6154\n"
     ]
    }
   ],
   "source": [
    "from langchain.document_loaders import DirectoryLoader, TextLoader\n",
    "\n",
    "folder_path = 'data/'\n",
    "\n",
    "loader = DirectoryLoader(\n",
    "    folder_path,\n",
    "    glob=\"**/*.html\",  # Modifier l'extension si vos fichiers ne sont pas en .xml\n",
    "    loader_cls=TextLoader,\n",
    "    recursive=True\n",
    ")\n",
    "documents = loader.load()\n",
    "print(f\"Nombre de documents chargés : {len(documents)}\")"
   ]
  },
  {
   "cell_type": "code",
   "execution_count": 4,
   "metadata": {},
   "outputs": [
    {
     "name": "stdout",
     "output_type": "stream",
     "text": [
      "Nombre de chunks après découpage : 38300\n"
     ]
    }
   ],
   "source": [
    "from langchain.text_splitter import RecursiveCharacterTextSplitter\n",
    "\n",
    "def preprocess(doc):\n",
    "    from bs4 import BeautifulSoup\n",
    "    soup = BeautifulSoup(doc.page_content, 'html')\n",
    "    text = soup.get_text()\n",
    "    doc.page_content = text\n",
    "    return doc\n",
    "\n",
    "documents = [preprocess(doc) for doc in documents]\n",
    "\n",
    "# Diviser les documents en morceaux plus petits si nécessaire\n",
    "text_splitter = RecursiveCharacterTextSplitter(\n",
    "    chunk_size=2500,  # Taille des chunks en nombre de caractères\n",
    "    chunk_overlap=200  # Chevauchement entre les chunks\n",
    ")\n",
    "\n",
    "splits = text_splitter.split_documents(documents)\n",
    "print(f\"Nombre de chunks après découpage : {len(splits)}\")"
   ]
  },
  {
   "cell_type": "code",
   "execution_count": 5,
   "metadata": {},
   "outputs": [
    {
     "name": "stderr",
     "output_type": "stream",
     "text": [
      "/tmp/ipykernel_489675/2987431449.py:13: LangChainDeprecationWarning: Since Chroma 0.4.x the manual persistence method is no longer supported as docs are automatically persisted.\n",
      "  vectorstore.persist()\n"
     ]
    }
   ],
   "source": [
    "from langchain_openai import OpenAIEmbeddings\n",
    "from langchain.vectorstores import Chroma\n",
    "\n",
    "# Spécifiez le répertoire où vous souhaitez stocker la base de données\n",
    "persist_directory = 'chroma_db'\n",
    "\n",
    "# Créez le vectorstore avec le paramètre persist_directory\n",
    "vectorstore = Chroma.from_documents(documents=splits, \n",
    "                                    embedding=OpenAIEmbeddings(),\n",
    "                                    persist_directory=persist_directory)\n",
    "\n",
    "# Sauvegardez le vectorstore sur le disque\n",
    "vectorstore.persist()\n",
    "\n",
    "retriever = vectorstore.as_retriever(search_kwargs={\"k\": 1})\n"
   ]
  },
  {
   "cell_type": "markdown",
   "metadata": {},
   "source": [
    "# Retrieval "
   ]
  },
  {
   "cell_type": "code",
   "execution_count": 6,
   "metadata": {},
   "outputs": [
    {
     "name": "stderr",
     "output_type": "stream",
     "text": [
      "/tmp/ipykernel_489675/3402203661.py:1: LangChainDeprecationWarning: The method `BaseRetriever.get_relevant_documents` was deprecated in langchain-core 0.1.46 and will be removed in 1.0. Use :meth:`~invoke` instead.\n",
      "  docs = retriever.get_relevant_documents(\"Si je roule 10000 kms en an combien je vais toucher d'ik avec un véhicule de 8 chevaux fiscaux\")\n"
     ]
    },
    {
     "name": "stdout",
     "output_type": "stream",
     "text": [
      "[Document(metadata={'source': 'data/BOFiP/documents/Contenu/Commentaire/AIS/13927-PGP/2024-07-10/data.html'}, page_content=\"voiture neuve comportant huit places assises. Ce véhicule est utilisé par M. W à la fois pour ses besoins professionnels et personnels. Il émet 200 grammes de CO2 par kilomètre.Le barème 2022 prévoit un tarif de 18\\xa0188 €.Après application de l’abattement au bénéfice des familles nombreuses, pour un niveau d’émissions de CO2 égal à 140 grammes par kilomètre (200 CO2 g/km - 60 CO2 g/km), le montant de la taxe s’élèverait à 310 €.Après application de l’abattement pour les véhicules comportant au moins huit places, pour un niveau d’émissions de CO2 égal à 120 grammes par kilomètre (200 CO2 g/km - 80 CO2 g/km), le montant de la taxe serait nul.M. W pourra donc bénéficier d'un montant de taxe nul lors de l’immatriculation du véhicule.C. Véhicules recourant à des sources d'énergies alternatives1. Véhicules recourant exclusivement à l'électricité ou à l'hydrogène150Sont exonérés de malus CO2 les véhicules dont la source d'énergie est exclusivement l'hydrogène, l'électricité ou une combinaison des deux (CIBS, art. L. 421-67 ; III-C § 410 du BOI-AIS-MOB-10-10).2. Véhicules recourant exclusivement ou partiellement au superéthanol E85160Lorsqu'un véhicule compte parmi ses sources d’énergie le superéthanol E85, l’abattement suivant est appliqué (CIBS, art. L. 421-68)\\xa0:pour les véhicules soumis au barème en émissions de CO2 (WLEP ou NEDC), 40 % de ces émissions sauf lorsqu’elles excèdent 250 grammes par kilomètre\\xa0;pour les véhicules soumis au barème en puissance administrative, 2 CV sauf lorsque cette puissance administrative excède 12 CV.Sont éligibles les véhicules recourant à ce carburant seul ou en hybridation avec une autre source d'énergie, y compris l'électricité. Les véhicules concernés sont ceux pour lesquels est porté en rubrique P3 du CI l'un des codes suivants (III-C § 410 du BOI-AIS-MOB-10-10) : FE, FG, FN, FL, FH, FR, FQ, FM et FP.170L'abattement au titre du superéthanol E85 est appliqué, le cas échéant, avant la réduction et les abattements suivants\\xa0:la réduction de 10 % par période de douze mois entamée (II-A-2 § 80 à 100) ;l’abattement pour les véhicules comportant au moins huit places (II-B-2 § 120 à 140) ;l’abattement au bénéfice des familles nombreuses (II-E § 190 et suivants).Exemple\\xa0: Une voiture d’occasion importée (première immatriculation à l’étranger le 15 juin 2021) ayant fait l’objet d’une réception européenne et non accessible en fauteuil roulant, est immatriculée pour la première fois en France le 15 avril 2022 (soit une période de douze\")]\n"
     ]
    }
   ],
   "source": [
    "docs = retriever.get_relevant_documents(\"Si je roule 10000 kms en an combien je vais toucher d'ik avec un véhicule de 8 chevaux fiscaux\")\n",
    "\n",
    "print(docs)"
   ]
  },
  {
   "cell_type": "markdown",
   "metadata": {},
   "source": [
    "# Generation"
   ]
  },
  {
   "cell_type": "code",
   "execution_count": 7,
   "metadata": {},
   "outputs": [
    {
     "data": {
      "text/plain": [
       "ChatPromptTemplate(input_variables=['context', 'question'], input_types={}, partial_variables={}, messages=[HumanMessagePromptTemplate(prompt=PromptTemplate(input_variables=['context', 'question'], input_types={}, partial_variables={}, template='Answer the question based only on the following context:\\n{context}\\n\\nQuestion: {question}\\n'), additional_kwargs={})])"
      ]
     },
     "execution_count": 7,
     "metadata": {},
     "output_type": "execute_result"
    }
   ],
   "source": [
    "from langchain_openai import ChatOpenAI\n",
    "from langchain.prompts import ChatPromptTemplate\n",
    "\n",
    "# Prompt\n",
    "template = \"\"\"Réponds aux questions\n",
    "{context}\n",
    "\n",
    "Question: {question}\n",
    "\"\"\"\n",
    "\n",
    "prompt = ChatPromptTemplate.from_template(template)\n",
    "prompt"
   ]
  },
  {
   "cell_type": "code",
   "execution_count": 8,
   "metadata": {},
   "outputs": [],
   "source": [
    "# LLM\n",
    "llm = ChatOpenAI(model_name=\"gpt-3.5-turbo\", temperature=0)"
   ]
  },
  {
   "cell_type": "code",
   "execution_count": 9,
   "metadata": {},
   "outputs": [],
   "source": [
    "from langchain import hub\n",
    "prompt_hub_rag = hub.pull(\"rlm/rag-prompt\")"
   ]
  },
  {
   "cell_type": "code",
   "execution_count": 11,
   "metadata": {},
   "outputs": [
    {
     "data": {
      "text/plain": [
       "\"Pour un véhicule de 8 chevaux fiscaux et un kilométrage de 10 000 km, vous toucherez une indemnité kilométrique en fonction du barème applicable pour l'imposition des revenus de l'année 2022. Vous devrez vous référer aux tranches relatives à des distances annuelles parcourues à titre professionnel entre 5 001 et 20 000 km pour connaître le coût kilométrique correspondant.\""
      ]
     },
     "execution_count": 11,
     "metadata": {},
     "output_type": "execute_result"
    }
   ],
   "source": [
    "from langchain_core.output_parsers import StrOutputParser\n",
    "from langchain_core.runnables import RunnablePassthrough\n",
    "\n",
    "rag_chain = (\n",
    "    {\"context\": retriever, \"question\": RunnablePassthrough()}\n",
    "    | prompt\n",
    "    | llm\n",
    "    | StrOutputParser()\n",
    ")\n",
    "\n",
    "rag_chain.invoke(\"Si je roule 10000 kms en an combien je vais toucher d'indemnité kilométriques avec un véhicule de 8 chevaux fiscaux\")"
   ]
  },
  {
   "cell_type": "code",
   "execution_count": null,
   "metadata": {},
   "outputs": [],
   "source": []
  }
 ],
 "metadata": {
  "kernelspec": {
   "display_name": "model-rag-4kQUozXE-py3.10",
   "language": "python",
   "name": "python3"
  },
  "language_info": {
   "codemirror_mode": {
    "name": "ipython",
    "version": 3
   },
   "file_extension": ".py",
   "mimetype": "text/x-python",
   "name": "python",
   "nbconvert_exporter": "python",
   "pygments_lexer": "ipython3",
   "version": "3.10.12"
  }
 },
 "nbformat": 4,
 "nbformat_minor": 2
}
