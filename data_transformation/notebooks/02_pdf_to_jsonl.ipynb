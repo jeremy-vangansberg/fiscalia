{
 "cells": [
  {
   "cell_type": "code",
   "execution_count": 25,
   "metadata": {},
   "outputs": [],
   "source": [
    "from PyPDF2 import PdfReader\n",
    "import re\n",
    "import json\n",
    "from pathlib import Path\n",
    "\n",
    "# 1. Charger le PDF\n",
    "BASE_PATH = \"../../data/cgi/\"\n",
    "pdf_path = BASE_PATH + \"LEGITEXT000006069577.pdf\"\n",
    "reader = PdfReader(pdf_path)"
   ]
  },
  {
   "cell_type": "code",
   "execution_count": 26,
   "metadata": {},
   "outputs": [],
   "source": [
    "# 2. Extraire tout le texte brut\n",
    "raw_text = \"\"\n",
    "for page in reader.pages:\n",
    "    text = page.extract_text()\n",
    "    if text:\n",
    "        raw_text += text + \"\\n\""
   ]
  },
  {
   "cell_type": "code",
   "execution_count": 27,
   "metadata": {},
   "outputs": [],
   "source": [
    "# 3. Regex pour identifier les niveaux hiérarchiques\n",
    "patterns = {\n",
    "    \"livre\": re.compile(r\"(?i)^\\s*LIVRE\\s+[^\\n]+\"),\n",
    "    \"partie\": re.compile(r\"(?i)^\\s*PREMI[\\u00c8E]RE PARTIE[^\\n]*|DEUXI[\\u00c8E]ME PARTIE[^\\n]*\"),\n",
    "    \"titre\": re.compile(r\"(?i)^\\s*TITRE\\s+[^\\n]+\"),\n",
    "    \"chapitre\": re.compile(r\"(?i)^\\s*CHAPITRE\\s+[^\\n]+\"),\n",
    "    \"section\": re.compile(r\"(?i)^\\s*SECTION\\s+[^\\n]+\"),\n",
    "    \"article\": re.compile(r\"(Article\\s+[A-Z]?[0-9]+[-0-9A-Z]*\\s*:?)\")\n",
    "}"
   ]
  },
  {
   "cell_type": "code",
   "execution_count": 28,
   "metadata": {},
   "outputs": [],
   "source": [
    "# 4. Initialiser le contexte de structure\n",
    "context = {\n",
    "    \"livre\": None,\n",
    "    \"partie\": None,\n",
    "    \"titre\": None,\n",
    "    \"chapitre\": None,\n",
    "    \"section\": None,\n",
    "}\n",
    "\n",
    "# 5. Parser ligne par ligne et structurer les articles\n",
    "lines = raw_text.splitlines()\n",
    "articles = []\n",
    "current_article = None\n",
    "buffer = []"
   ]
  },
  {
   "cell_type": "code",
   "execution_count": 29,
   "metadata": {},
   "outputs": [],
   "source": [
    "def save_current_article():\n",
    "    if current_article and buffer:\n",
    "        articles.append({\n",
    "            \"page_content\": \"\\n\".join(buffer).strip(),\n",
    "            \"metadata\": {\n",
    "                \"title\": current_article,\n",
    "                \"source\": \"Code Général des Impôts\",\n",
    "                \"type\": \"code\",\n",
    "                **context\n",
    "            }\n",
    "        })\n",
    "\n",
    "for line in lines:\n",
    "    line = line.strip()\n",
    "    if not line:\n",
    "        continue\n",
    "\n",
    "    for level, pattern in patterns.items():\n",
    "        if level != \"article\" and pattern.match(line):\n",
    "            context[level] = line.strip().title()\n",
    "\n",
    "    if patterns[\"article\"].match(line):\n",
    "        save_current_article()\n",
    "        current_article = line.strip()\n",
    "        buffer = [line]\n",
    "    else:\n",
    "        buffer.append(line)\n",
    "\n",
    "save_current_article()\n"
   ]
  },
  {
   "cell_type": "code",
   "execution_count": 31,
   "metadata": {},
   "outputs": [
    {
     "name": "stdout",
     "output_type": "stream",
     "text": [
      "✅ 2500 articles sauvegardés dans ../../data/cgi/cgi_articles_structured.jsonl\n"
     ]
    }
   ],
   "source": [
    "# 6. Sauvegarde en JSONL\n",
    "output_path = Path( BASE_PATH + \"cgi_articles_structured.jsonl\")\n",
    "with output_path.open(\"w\", encoding=\"utf-8\") as f_out:\n",
    "    for art in articles:\n",
    "        json.dump(art, f_out, ensure_ascii=False)\n",
    "        f_out.write(\"\\n\")\n",
    "\n",
    "print(f\"✅ {len(articles)} articles sauvegardés dans {output_path}\")"
   ]
  },
  {
   "cell_type": "code",
   "execution_count": null,
   "metadata": {},
   "outputs": [],
   "source": []
  }
 ],
 "metadata": {
  "kernelspec": {
   "display_name": ".venv",
   "language": "python",
   "name": "python3"
  },
  "language_info": {
   "codemirror_mode": {
    "name": "ipython",
    "version": 3
   },
   "file_extension": ".py",
   "mimetype": "text/x-python",
   "name": "python",
   "nbconvert_exporter": "python",
   "pygments_lexer": "ipython3",
   "version": "3.9.18"
  }
 },
 "nbformat": 4,
 "nbformat_minor": 2
}
