{
 "cells": [
  {
   "cell_type": "code",
   "execution_count": 1,
   "metadata": {},
   "outputs": [],
   "source": [
    "# 📦 1. Imports\n",
    "from bs4 import BeautifulSoup\n",
    "from lxml import etree\n",
    "from pathlib import Path\n",
    "from langchain_core.documents import Document\n",
    "from typing import List, Dict"
   ]
  },
  {
   "cell_type": "code",
   "execution_count": 2,
   "metadata": {},
   "outputs": [],
   "source": [
    "# 📁 2. Chargement des fichiers\n",
    "BASE_PATH = \"../../data_collection/data/bofip/BOFiP/documents/Contenu/Commentaire/AIS/12628-PGP/2024-07-10\"\n",
    "html_path = Path(BASE_PATH + \"/\" + \"data.html\")\n",
    "xml_path = Path(BASE_PATH + \"/\" +  \"document.xml\")\n",
    "html_raw = html_path.read_text(encoding=\"utf-8\")"
   ]
  },
  {
   "cell_type": "code",
   "execution_count": 3,
   "metadata": {},
   "outputs": [],
   "source": [
    "# 🧠 3. Fonctions d'extraction\n",
    "\n",
    "def extract_document_title(html: str) -> str:\n",
    "    soup = BeautifulSoup(html, \"html.parser\")\n",
    "    title_tag = soup.find(\"title\")\n",
    "    return title_tag.get_text(strip=True) if title_tag else \"\"\n",
    "\n",
    "def extract_metadata(xml_path: Path) -> Dict:\n",
    "    tree = etree.parse(str(xml_path))\n",
    "    ns = {'dc': 'http://purl.org/dc/elements/1.1'}\n",
    "    relations = tree.findall('.//dc:relation', namespaces=ns)\n",
    "    referenced_ids = [rel.text for rel in relations if rel.get(\"type\") == \"references\"]\n",
    "\n",
    "    return {\n",
    "        \"title_xml\": tree.findtext('.//dc:title', namespaces=ns),\n",
    "        \"date\": tree.findtext('.//dc:date', namespaces=ns),\n",
    "        \"source\": tree.findtext('.//dc:source', namespaces=ns),\n",
    "        \"url\": tree.findall('.//dc:identifier', namespaces=ns)[-1].text,\n",
    "        \"file\": xml_path.stem,\n",
    "        \"references\": referenced_ids\n",
    "    }"
   ]
  },
  {
   "cell_type": "code",
   "execution_count": 4,
   "metadata": {},
   "outputs": [],
   "source": [
    "# 🧱 4. Extraction des sections depuis le HTML\n",
    "\n",
    "def extract_sections(html: str) -> List[Dict]:\n",
    "    soup = BeautifulSoup(html, \"html.parser\")\n",
    "    tags = soup.find_all(['h1', 'h2', 'h3', 'p', 'ul', 'ol'])\n",
    "\n",
    "    sections = []\n",
    "    current = {\n",
    "        \"title\": \"Préambule\",\n",
    "        \"level\": 0,\n",
    "        \"content\": \"\"\n",
    "    }\n",
    "\n",
    "    for tag in tags:\n",
    "        if tag.name in [\"h1\", \"h2\", \"h3\"]:\n",
    "            if current[\"content\"].strip():\n",
    "                sections.append(current)\n",
    "            current = {\n",
    "                \"title\": tag.get_text(strip=True),\n",
    "                \"level\": int(tag.name[1]),\n",
    "                \"content\": \"\"\n",
    "            }\n",
    "        else:\n",
    "            current[\"content\"] += \"\\n\" + tag.get_text(separator=\" \", strip=True)\n",
    "\n",
    "    if current[\"content\"].strip():\n",
    "        sections.append(current)\n",
    "\n",
    "    return sections"
   ]
  },
  {
   "cell_type": "code",
   "execution_count": 5,
   "metadata": {},
   "outputs": [],
   "source": [
    "# 📄 5. Création des Documents LangChain\n",
    "\n",
    "def html_to_documents(html_text: str, xml_path: Path) -> List[Document]:\n",
    "    metadata_common = extract_metadata(xml_path)\n",
    "    metadata_common[\"title_head\"] = extract_document_title(html_text)\n",
    "\n",
    "    sections = extract_sections(html_text)\n",
    "\n",
    "    return [\n",
    "        Document(\n",
    "            page_content=section[\"content\"],\n",
    "            metadata={\n",
    "                **metadata_common,\n",
    "                \"section\": section[\"title\"],\n",
    "                \"level\": section[\"level\"]\n",
    "            }\n",
    "        )\n",
    "        for section in sections if section[\"content\"].strip()\n",
    "    ]"
   ]
  },
  {
   "cell_type": "code",
   "execution_count": 6,
   "metadata": {},
   "outputs": [
    {
     "name": "stdout",
     "output_type": "stream",
     "text": [
      "1 documents générés\n",
      "{'title_xml': 'AIS - Mobilités - Taxes sur les déplacements routiers', 'date': '2024-07-10', 'source': 'Bulletin Officiel des Finances Publiques - Impôts', 'url': 'https://bofip.impots.gouv.fr/bofip/12628-PGP.html/identifiant=BOI-AIS-MOB-10-20240710', 'file': 'document', 'references': ['Actualite:13887-PGP', 'Contenu:13890-PGP', 'Contenu:13911-PGP', 'Contenu:13931-PGP', 'Contenu:14231-PGP'], 'title_head': 'AIS - Mobilités - Taxes sur les déplacements routiers', 'section': 'Préambule', 'level': 0}\n",
      "\n",
      "Actualité liée : [node:date:13887-PGP] : AIS - TFP - ENR - Consultation publique - Recodification des taxes sur les déplacements routiers au sein du code des impositions sur les biens et services\n",
      "1\n",
      "Le présent titre commente les différentes taxes portant sur les déplacements routiers, régies par le chapitre Ier du titre II du livre IV du code des impositions sur les biens et services depuis le 1 er janvier 2022.\n",
      "10\n",
      "Sont traitées successivement :\n",
      "les dispositions générales (chapitre 1, BOI-AIS-MO\n"
     ]
    }
   ],
   "source": [
    "# 🚀 6. Exécution du pipeline\n",
    "\n",
    "docs = html_to_documents(html_raw, xml_path)\n",
    "\n",
    "print(f\"{len(docs)} documents générés\")\n",
    "print(docs[0].metadata)\n",
    "print(docs[0].page_content[:500])"
   ]
  },
  {
   "cell_type": "code",
   "execution_count": 7,
   "metadata": {},
   "outputs": [],
   "source": [
    "# 💾 7. Export en JSONL pour vectorisation\n",
    "import json\n",
    "\n",
    "with open(\"bofip_documents.jsonl\", \"w\", encoding=\"utf-8\") as f:\n",
    "    for doc in docs:\n",
    "        json.dump({\n",
    "            \"page_content\": doc.page_content,\n",
    "            \"metadata\": doc.metadata\n",
    "        }, f, ensure_ascii=False)\n",
    "        f.write(\"\\n\")\n"
   ]
  }
 ],
 "metadata": {
  "kernelspec": {
   "display_name": ".venv",
   "language": "python",
   "name": "python3"
  },
  "language_info": {
   "codemirror_mode": {
    "name": "ipython",
    "version": 3
   },
   "file_extension": ".py",
   "mimetype": "text/x-python",
   "name": "python",
   "nbconvert_exporter": "python",
   "pygments_lexer": "ipython3",
   "version": "3.11.8"
  }
 },
 "nbformat": 4,
 "nbformat_minor": 2
}
